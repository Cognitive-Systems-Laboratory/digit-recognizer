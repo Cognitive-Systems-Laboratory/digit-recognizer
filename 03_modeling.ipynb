{
 "cells": [
  {
   "attachments": {},
   "cell_type": "markdown",
   "metadata": {},
   "source": [
    "## Review\n",
    "아래 코드와 유사한 방식으로 본인의 코드가 작동하는지 확인해보세요.\n",
    "- `.py` script에 dataset을 잘 넣어서 불러올 수 있는지\n",
    "- DataLoader에 씌우고 배치를 뽑아볼 수 있는지\n",
    "- 그림 그려볼 수 있는지"
   ]
  },
  {
   "cell_type": "code",
   "execution_count": 1,
   "metadata": {},
   "outputs": [
    {
     "data": {
      "image/png": "[encoded data removed]",
      "text/plain": [
       "<Figure size 600x300 with 8 Axes>"
      ]
     },
     "metadata": {},
     "output_type": "display_data"
    }
   ],
   "source": [
    "from torch.utils.data import DataLoader\n",
    "\n",
    "from digitrec.plot_utils import plot_tensors\n",
    "from digitrec.dataloader import DigitDataset\n",
    "\n",
    "dataset = DigitDataset(data_dir=\"./data\", file_name=\"train.csv\")\n",
    "dataloader = DataLoader(dataset, batch_size=16)\n",
    "\n",
    "X, y = next(iter(dataloader))\n",
    "plot_tensors(X=X.squeeze(), y=y)"
   ]
  },
  {
   "attachments": {},
   "cell_type": "markdown",
   "metadata": {},
   "source": [
    "## import `timm`"
   ]
  },
  {
   "cell_type": "code",
   "execution_count": 2,
   "metadata": {},
   "outputs": [],
   "source": [
    "import timm\n",
    "\n",
    "model = timm.create_model(\"resnet10t\", num_classes=10, in_chans=1)"
   ]
  },
  {
   "attachments": {},
   "cell_type": "markdown",
   "metadata": {},
   "source": [
    "### Apply changes"
   ]
  },
  {
   "cell_type": "code",
   "execution_count": 3,
   "metadata": {},
   "outputs": [
    {
     "data": {
      "text/plain": [
       "torch.Size([16, 10])"
      ]
     },
     "execution_count": 3,
     "metadata": {},
     "output_type": "execute_result"
    }
   ],
   "source": [
    "model(X).shape"
   ]
  },
  {
   "cell_type": "code",
   "execution_count": 4,
   "metadata": {},
   "outputs": [
    {
     "data": {
      "text/plain": [
       "4927186"
      ]
     },
     "execution_count": 4,
     "metadata": {},
     "output_type": "execute_result"
    }
   ],
   "source": [
    "def count_parameters(model):\n",
    "    return sum(p.numel() for p in model.parameters() if p.requires_grad)\n",
    "\n",
    "count_parameters(model)"
   ]
  },
  {
   "attachments": {},
   "cell_type": "markdown",
   "metadata": {},
   "source": [
    "### Train a model"
   ]
  },
  {
   "attachments": {},
   "cell_type": "markdown",
   "metadata": {},
   "source": [
    "Single Batch Operation"
   ]
  },
  {
   "cell_type": "code",
   "execution_count": 3,
   "metadata": {},
   "outputs": [],
   "source": [
    "import torch\n",
    "import torch.nn as nn\n",
    "import torch.optim as optim"
   ]
  },
  {
   "cell_type": "code",
   "execution_count": 6,
   "metadata": {},
   "outputs": [],
   "source": [
    "# Use available device\n",
    "# I have no GPU = \"cpu\"\n",
    "# I'm working with gpus = \"gpu\" or \"cuda\"\n",
    "# I'm working with Mac M1 series = \"mps\" << requires torch version >= 1.13\n",
    "device = torch.device(\"mps\")"
   ]
  },
  {
   "cell_type": "code",
   "execution_count": 7,
   "metadata": {},
   "outputs": [],
   "source": [
    "model = model.to(device)\n",
    "\n",
    "loss_fn = nn.CrossEntropyLoss()\n",
    "optimizer = optim.Adam(model.parameters(), lr=1e-4)"
   ]
  },
  {
   "cell_type": "code",
   "execution_count": 8,
   "metadata": {},
   "outputs": [],
   "source": [
    "# Fetch a batch\n",
    "img, y_true = next(iter(dataloader))\n",
    "img, y_true = img.to(device), y_true.to(device)\n",
    "\n",
    "# Forward image\n",
    "y_pred = model(img)\n",
    "\n",
    "# Calculate Loss\n",
    "loss = loss_fn(y_pred, y_true)\n",
    "\n",
    "# Backpropagate Loss\n",
    "optimizer.zero_grad()\n",
    "loss.backward()\n",
    "optimizer.step()"
   ]
  },
  {
   "attachments": {},
   "cell_type": "markdown",
   "metadata": {},
   "source": [
    "Iterate through whole dataloader"
   ]
  },
  {
   "cell_type": "code",
   "execution_count": 9,
   "metadata": {},
   "outputs": [],
   "source": [
    "for img, y_true in dataloader:\n",
    "\n",
    "    img, y_true = img.to(device), y_true.to(device)\n",
    "    y_pred = model(img)\n",
    "\n",
    "    loss = loss_fn(y_pred, y_true)\n",
    "\n",
    "    optimizer.zero_grad()\n",
    "    loss.backward()\n",
    "    optimizer.step()"
   ]
  },
  {
   "attachments": {},
   "cell_type": "markdown",
   "metadata": {},
   "source": [
    "Go through multiple epochs!"
   ]
  },
  {
   "cell_type": "code",
   "execution_count": 10,
   "metadata": {},
   "outputs": [],
   "source": [
    "for epoch in range(5):\n",
    "    for img, y_true in dataloader:\n",
    "        img, y_true = img.to(device), y_true.to(device)\n",
    "        y_pred = model(img)\n",
    "\n",
    "        # Calculate Loss\n",
    "        loss = loss_fn(y_pred, y_true)\n",
    "\n",
    "        # Backpropagate Loss\n",
    "        optimizer.zero_grad()\n",
    "        loss.backward()\n",
    "        optimizer.step()"
   ]
  },
  {
   "attachments": {},
   "cell_type": "markdown",
   "metadata": {},
   "source": [
    "### Check with validation data"
   ]
  },
  {
   "cell_type": "code",
   "execution_count": 11,
   "metadata": {},
   "outputs": [],
   "source": [
    "valid_dataset = DigitDataset(data_dir=\"./data\", file_name=\"train.csv\", mode=\"valid\", use_augmentation=False)\n",
    "valid_dataloader = DataLoader(valid_dataset, batch_size=16)\n",
    "\n",
    "img, y_true = next(iter(valid_dataloader))"
   ]
  },
  {
   "cell_type": "code",
   "execution_count": 12,
   "metadata": {},
   "outputs": [],
   "source": [
    "y_pred = model(img.to(device))"
   ]
  },
  {
   "cell_type": "code",
   "execution_count": 13,
   "metadata": {},
   "outputs": [
    {
     "data": {
      "image/png": "[encoded data removed]",
      "text/plain": [
       "<Figure size 600x300 with 8 Axes>"
      ]
     },
     "metadata": {},
     "output_type": "display_data"
    }
   ],
   "source": [
    "# 생각보다 잘 나옴\n",
    "plot_tensors(img.squeeze(), y_pred.argmax(dim=1).cpu())"
   ]
  },
  {
   "attachments": {},
   "cell_type": "markdown",
   "metadata": {},
   "source": [
    "### Functionize"
   ]
  },
  {
   "cell_type": "code",
   "execution_count": 15,
   "metadata": {},
   "outputs": [],
   "source": [
    "device = torch.device(\"mps\")\n",
    "model = timm.create_model(\"resnet10t\", num_classes=10, in_chans=1).to(device)\n",
    "loss_fn = nn.CrossEntropyLoss()\n",
    "optimizer = optim.Adam(model.parameters(), lr=1e-4)\n",
    "batch_size = 64\n",
    "\n",
    "train_dataset = DigitDataset(data_dir=\"./data\", file_name=\"train.csv\", mode=\"train\")\n",
    "valid_dataset = DigitDataset(data_dir=\"./data\", file_name=\"train.csv\", mode=\"valid\", use_augmentation=False)\n",
    "\n",
    "train_dataloader = DataLoader(train_dataset, batch_size=batch_size)\n",
    "valid_dataloader = DataLoader(valid_dataset, batch_size=batch_size)\n",
    "\n",
    "\n",
    "def _epoch(dataloader: DataLoader, update_params: bool = True):\n",
    "    for img, y_true in dataloader:\n",
    "        img, y_true = img.to(device), y_true.to(device)\n",
    "        y_pred = model(img)\n",
    "\n",
    "        loss = loss_fn(y_pred, y_true)\n",
    "\n",
    "        if update_params:\n",
    "            optimizer.zero_grad()\n",
    "            loss.backward()\n",
    "            optimizer.step()\n",
    "    return model\n",
    "\n",
    "\n",
    "def train(model: nn.Module, epochs=10):\n",
    "    for e in range(epochs):\n",
    "        model = _epoch(dataloader=train_dataloader, update_params=True)\n",
    "        model = _epoch(dataloader=valid_dataloader, update_params=False)\n",
    "    return model"
   ]
  },
  {
   "cell_type": "code",
   "execution_count": 16,
   "metadata": {},
   "outputs": [],
   "source": [
    "model = train(model, epochs=5)"
   ]
  },
  {
   "attachments": {},
   "cell_type": "markdown",
   "metadata": {},
   "source": [
    "### `Class`"
   ]
  },
  {
   "attachments": {},
   "cell_type": "markdown",
   "metadata": {},
   "source": [
    "전역변수가 너무 많습니다. 일일히 설정하는 것은 관리가 힘들어요. 이를 Class에 넣어서 attribute으로 넣어두면 사용하긱 ㅏ편합니다."
   ]
  },
  {
   "cell_type": "code",
   "execution_count": 4,
   "metadata": {},
   "outputs": [],
   "source": [
    "class Trainer:\n",
    "    def __init__(self,\n",
    "                 model: nn.Module,\n",
    "                 optimizer: str,\n",
    "                 device: str = \"mps\",\n",
    "                 data_dir: str = \"./data\",\n",
    "                 file_name: str = \"train.csv\",\n",
    "                 batch_size: int = 64):\n",
    "        self.model = model.to(device)\n",
    "        self.device = device\n",
    "        self.configure_optimizer(optimizer=optimizer, model=self.model)\n",
    "        self.loss_fn = nn.CrossEntropyLoss()\n",
    "\n",
    "        train_dataset = DigitDataset(data_dir=data_dir, file_name=file_name, mode=\"train\")\n",
    "        self.train_dataloader = DataLoader(train_dataset, batch_size=batch_size)\n",
    "        valid_dataset = DigitDataset(data_dir=data_dir, file_name=file_name, mode=\"valid\", use_augmentation=False)\n",
    "        self.valid_dataloader = DataLoader(valid_dataset, batch_size=batch_size)\n",
    "\n",
    "    def configure_optimizer(self, optimizer: str, model: nn.Module):\n",
    "        self.optimizer = {\n",
    "            \"adam\": optim.Adam,\n",
    "            \"adamw\": optim.AdamW\n",
    "        }[optimizer.lower()](model.parameters())\n",
    "\n",
    "    def _epoch(self, dataloader: DataLoader, update_params: bool = True):\n",
    "        for img, y_true in dataloader:\n",
    "            img, y_true = img.to(self.device), y_true.to(self.device)\n",
    "            y_pred = self.model(img)\n",
    "\n",
    "            loss = self.loss_fn(y_pred, y_true)\n",
    "\n",
    "            if update_params:\n",
    "                self.optimizer.zero_grad()\n",
    "                loss.backward()\n",
    "                self.optimizer.step()\n",
    "\n",
    "    def fit(self, epochs=20):\n",
    "        for e in range(epochs):\n",
    "            self._epoch(dataloader=self.train_dataloader, update_params=True)\n",
    "            self._epoch(dataloader=self.valid_dataloader, update_params=False)"
   ]
  },
  {
   "cell_type": "code",
   "execution_count": 5,
   "metadata": {},
   "outputs": [],
   "source": [
    "model = timm.create_model(\"resnet10t\", num_classes=10, in_chans=1)\n",
    "trainer = Trainer(model=model, optimizer=\"adam\")\n",
    "\n",
    "trainer.fit(epochs=10)"
   ]
  },
  {
   "attachments": {},
   "cell_type": "markdown",
   "metadata": {},
   "source": [
    "Validate on test data"
   ]
  },
  {
   "cell_type": "code",
   "execution_count": 6,
   "metadata": {},
   "outputs": [],
   "source": [
    "test_dataset = DigitDataset(data_dir=\"./data\", file_name=\"test.csv\", mode=None, use_augmentation=False)\n",
    "test_dataloader = DataLoader(test_dataset, batch_size=8)\n",
    "\n",
    "img = next(iter(test_dataloader))\n",
    "y_pred = trainer.model(img.to(trainer.device))"
   ]
  },
  {
   "cell_type": "code",
   "execution_count": 7,
   "metadata": {},
   "outputs": [
    {
     "data": {
      "image/png": "[encoded data removed]",
      "text/plain": [
       "<Figure size 600x300 with 8 Axes>"
      ]
     },
     "metadata": {},
     "output_type": "display_data"
    }
   ],
   "source": [
    "plot_tensors(img.squeeze(), y_pred.argmax(dim=1))"
   ]
  },
  {
   "cell_type": "code",
   "execution_count": null,
   "metadata": {},
   "outputs": [],
   "source": []
  }
 ],
 "metadata": {
  "kernelspec": {
   "display_name": "digit",
   "language": "python",
   "name": "python3"
  },
  "language_info": {
   "codemirror_mode": {
    "name": "ipython",
    "version": 3
   },
   "file_extension": ".py",
   "mimetype": "text/x-python",
   "name": "python",
   "nbconvert_exporter": "python",
   "pygments_lexer": "ipython3",
   "version": "3.10.8"
  },
  "orig_nbformat": 4,
  "vscode": {
   "interpreter": {
    "hash": "b47dde056965e734791128164230fdbbd2ca14285548190281d4ed3c73a4c52d"
   }
  }
 },
 "nbformat": 4,
 "nbformat_minor": 2
}
